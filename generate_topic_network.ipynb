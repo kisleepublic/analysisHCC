{
 "cells": [
  {
   "cell_type": "code",
   "execution_count": 1,
   "id": "155ffbcf",
   "metadata": {},
   "outputs": [],
   "source": [
    "import pandas as pd\n",
    "import os\n",
    "import networkx as nx\n",
    "import csv"
   ]
  },
  {
   "cell_type": "code",
   "execution_count": 2,
   "id": "86b827cc",
   "metadata": {},
   "outputs": [],
   "source": [
    "file = os.getcwd()+r'\\topic_doc.xlsx'"
   ]
  },
  {
   "cell_type": "code",
   "execution_count": 3,
   "id": "ebee36da",
   "metadata": {},
   "outputs": [],
   "source": [
    "df = pd.read_excel(file, usecols=['topic', 'sub_topic'])"
   ]
  },
  {
   "cell_type": "code",
   "execution_count": 4,
   "id": "c0b5ebcc",
   "metadata": {},
   "outputs": [
    {
     "data": {
      "text/html": [
       "<div>\n",
       "<style scoped>\n",
       "    .dataframe tbody tr th:only-of-type {\n",
       "        vertical-align: middle;\n",
       "    }\n",
       "\n",
       "    .dataframe tbody tr th {\n",
       "        vertical-align: top;\n",
       "    }\n",
       "\n",
       "    .dataframe thead th {\n",
       "        text-align: right;\n",
       "    }\n",
       "</style>\n",
       "<table border=\"1\" class=\"dataframe\">\n",
       "  <thead>\n",
       "    <tr style=\"text-align: right;\">\n",
       "      <th></th>\n",
       "      <th>topic</th>\n",
       "      <th>sub_topic</th>\n",
       "    </tr>\n",
       "  </thead>\n",
       "  <tbody>\n",
       "    <tr>\n",
       "      <th>0</th>\n",
       "      <td>43</td>\n",
       "      <td>19</td>\n",
       "    </tr>\n",
       "    <tr>\n",
       "      <th>1</th>\n",
       "      <td>35</td>\n",
       "      <td>4</td>\n",
       "    </tr>\n",
       "    <tr>\n",
       "      <th>2</th>\n",
       "      <td>4</td>\n",
       "      <td>30</td>\n",
       "    </tr>\n",
       "    <tr>\n",
       "      <th>3</th>\n",
       "      <td>23</td>\n",
       "      <td>43</td>\n",
       "    </tr>\n",
       "    <tr>\n",
       "      <th>4</th>\n",
       "      <td>10</td>\n",
       "      <td>4</td>\n",
       "    </tr>\n",
       "  </tbody>\n",
       "</table>\n",
       "</div>"
      ],
      "text/plain": [
       "   topic  sub_topic\n",
       "0     43         19\n",
       "1     35          4\n",
       "2      4         30\n",
       "3     23         43\n",
       "4     10          4"
      ]
     },
     "execution_count": 4,
     "metadata": {},
     "output_type": "execute_result"
    }
   ],
   "source": [
    "df.head()"
   ]
  },
  {
   "cell_type": "code",
   "execution_count": 5,
   "id": "2a46eab6",
   "metadata": {},
   "outputs": [],
   "source": [
    "namefile = os.getcwd() + r'\\topic names.xlsx'"
   ]
  },
  {
   "cell_type": "code",
   "execution_count": 6,
   "id": "a54626ed",
   "metadata": {},
   "outputs": [],
   "source": [
    "name_df = pd.read_excel(namefile, usecols=['topic', 'name'])"
   ]
  },
  {
   "cell_type": "code",
   "execution_count": 7,
   "id": "a0f13210",
   "metadata": {},
   "outputs": [
    {
     "data": {
      "text/html": [
       "<div>\n",
       "<style scoped>\n",
       "    .dataframe tbody tr th:only-of-type {\n",
       "        vertical-align: middle;\n",
       "    }\n",
       "\n",
       "    .dataframe tbody tr th {\n",
       "        vertical-align: top;\n",
       "    }\n",
       "\n",
       "    .dataframe thead th {\n",
       "        text-align: right;\n",
       "    }\n",
       "</style>\n",
       "<table border=\"1\" class=\"dataframe\">\n",
       "  <thead>\n",
       "    <tr style=\"text-align: right;\">\n",
       "      <th></th>\n",
       "      <th>topic</th>\n",
       "      <th>name</th>\n",
       "    </tr>\n",
       "  </thead>\n",
       "  <tbody>\n",
       "    <tr>\n",
       "      <th>0</th>\n",
       "      <td>0</td>\n",
       "      <td>membrane protein</td>\n",
       "    </tr>\n",
       "    <tr>\n",
       "      <th>1</th>\n",
       "      <td>1</td>\n",
       "      <td>hormone receptors</td>\n",
       "    </tr>\n",
       "    <tr>\n",
       "      <th>2</th>\n",
       "      <td>2</td>\n",
       "      <td>viral vectors</td>\n",
       "    </tr>\n",
       "    <tr>\n",
       "      <th>3</th>\n",
       "      <td>3</td>\n",
       "      <td>hepatocarcinogen</td>\n",
       "    </tr>\n",
       "    <tr>\n",
       "      <th>4</th>\n",
       "      <td>4</td>\n",
       "      <td>gene muations in HCC</td>\n",
       "    </tr>\n",
       "  </tbody>\n",
       "</table>\n",
       "</div>"
      ],
      "text/plain": [
       "   topic                  name\n",
       "0      0      membrane protein\n",
       "1      1     hormone receptors\n",
       "2      2         viral vectors\n",
       "3      3      hepatocarcinogen\n",
       "4      4  gene muations in HCC"
      ]
     },
     "execution_count": 7,
     "metadata": {},
     "output_type": "execute_result"
    }
   ],
   "source": [
    "name_df.head()"
   ]
  },
  {
   "cell_type": "code",
   "execution_count": 8,
   "id": "691ea9b7",
   "metadata": {},
   "outputs": [],
   "source": [
    "source = df.apply(lambda x : name_df.iloc[ x['topic'], 1], axis=1)\n",
    "dest = df.apply(lambda x : name_df.iloc[ x['sub_topic'], 1], axis=1)"
   ]
  },
  {
   "cell_type": "code",
   "execution_count": 9,
   "id": "10d099a9",
   "metadata": {},
   "outputs": [],
   "source": [
    "edges_df = pd.DataFrame()"
   ]
  },
  {
   "cell_type": "code",
   "execution_count": 10,
   "id": "4a969d0d",
   "metadata": {},
   "outputs": [],
   "source": [
    "edges_df['source'] = source\n",
    "edges_df['dest'] = dest"
   ]
  },
  {
   "cell_type": "code",
   "execution_count": 11,
   "id": "09c43954",
   "metadata": {},
   "outputs": [
    {
     "data": {
      "text/html": [
       "<div>\n",
       "<style scoped>\n",
       "    .dataframe tbody tr th:only-of-type {\n",
       "        vertical-align: middle;\n",
       "    }\n",
       "\n",
       "    .dataframe tbody tr th {\n",
       "        vertical-align: top;\n",
       "    }\n",
       "\n",
       "    .dataframe thead th {\n",
       "        text-align: right;\n",
       "    }\n",
       "</style>\n",
       "<table border=\"1\" class=\"dataframe\">\n",
       "  <thead>\n",
       "    <tr style=\"text-align: right;\">\n",
       "      <th></th>\n",
       "      <th>source</th>\n",
       "      <th>dest</th>\n",
       "    </tr>\n",
       "  </thead>\n",
       "  <tbody>\n",
       "    <tr>\n",
       "      <th>0</th>\n",
       "      <td>cytochrome P450</td>\n",
       "      <td>angiogenesis in hepatocellular carcinoma</td>\n",
       "    </tr>\n",
       "    <tr>\n",
       "      <th>1</th>\n",
       "      <td>RFA</td>\n",
       "      <td>gene muations in HCC</td>\n",
       "    </tr>\n",
       "    <tr>\n",
       "      <th>2</th>\n",
       "      <td>gene muations in HCC</td>\n",
       "      <td>proliferation of HCC cells</td>\n",
       "    </tr>\n",
       "    <tr>\n",
       "      <th>3</th>\n",
       "      <td>TACE</td>\n",
       "      <td>cytochrome P450</td>\n",
       "    </tr>\n",
       "    <tr>\n",
       "      <th>4</th>\n",
       "      <td>apoptosis</td>\n",
       "      <td>gene muations in HCC</td>\n",
       "    </tr>\n",
       "  </tbody>\n",
       "</table>\n",
       "</div>"
      ],
      "text/plain": [
       "                 source                                      dest\n",
       "0       cytochrome P450  angiogenesis in hepatocellular carcinoma\n",
       "1                   RFA                      gene muations in HCC\n",
       "2  gene muations in HCC                proliferation of HCC cells\n",
       "3                  TACE                           cytochrome P450\n",
       "4             apoptosis                      gene muations in HCC"
      ]
     },
     "execution_count": 11,
     "metadata": {},
     "output_type": "execute_result"
    }
   ],
   "source": [
    "edges_df.head()"
   ]
  },
  {
   "cell_type": "code",
   "execution_count": 12,
   "id": "3eb09a2d",
   "metadata": {},
   "outputs": [],
   "source": [
    "G = nx.Graph()\n",
    "\n",
    "for i, edge in edges_df.iterrows():\n",
    "    s = edge['source']\n",
    "    d = edge['dest']\n",
    "    if G.has_edge(s, d):\n",
    "        G[s][d]['weight'] +=1\n",
    "    else:\n",
    "        G.add_edge(s, d, weight=1)"
   ]
  },
  {
   "cell_type": "code",
   "execution_count": 13,
   "id": "19c49b25",
   "metadata": {},
   "outputs": [],
   "source": [
    "save_file_name = os.getcwd() + r'\\topic_edges_for_gephi.csv'\n",
    "\n",
    "with open(save_file_name, mode='w', buffering=-1, encoding=\"utf-8\", newline=\"\") as f:\n",
    "    writer = csv.writer(f)\n",
    "    for i, edge in edges_df.iterrows():\n",
    "        s = edge['source']\n",
    "        d = edge['dest']\n",
    "        writer.writerow((s,d))"
   ]
  },
  {
   "cell_type": "code",
   "execution_count": 14,
   "id": "ea2b0953",
   "metadata": {},
   "outputs": [],
   "source": [
    "edge_weight=[]\n",
    "for s, t, w in G.edges(data=True):\n",
    "    edge_weight.append(w['weight'])"
   ]
  },
  {
   "cell_type": "code",
   "execution_count": 15,
   "id": "6f4dcc56",
   "metadata": {},
   "outputs": [],
   "source": [
    "edge_weight.sort(reverse=True)"
   ]
  },
  {
   "cell_type": "code",
   "execution_count": 16,
   "id": "f0fa77cb",
   "metadata": {},
   "outputs": [
    {
     "name": "stdout",
     "output_type": "stream",
     "text": [
      "max: 1681\n",
      "mean: 59.33940556088207\n",
      "medean: 12\n",
      "min: 1\n"
     ]
    }
   ],
   "source": [
    "print('max:', max(edge_weight))\n",
    "print('mean:', sum(edge_weight)/len(edge_weight))\n",
    "print('medean:', edge_weight[int(len(edge_weight)/2)])\n",
    "print('min:', min(edge_weight))"
   ]
  },
  {
   "cell_type": "code",
   "execution_count": 17,
   "id": "17b1edf9",
   "metadata": {},
   "outputs": [
    {
     "data": {
      "text/plain": [
       "DegreeView({'cytochrome P450': 49, 'angiogenesis in hepatocellular carcinoma': 42, 'RFA': 44, 'gene muations in HCC': 47, 'proliferation of HCC cells': 40, 'TACE': 49, 'apoptosis': 48, 'pathology': 49, 'management of HCC': 48, 'liver fibrosis - alcohol, fatty liver': 49, 'serum AFP': 29, 'iron metabolism': 32, 'protein kinase': 49, 'epithelial-to-mesenchymal transition': 46, 'varix': 45, 'hepatotoxicity': 44, 'hepatitis virus - carcinogenesis': 46, 'imaging with contrast dye': 49, 'hormone receptors': 48, 'survival analysis, prognosis': 44, 'ascites': 47, 'vascular procedures': 46, 'DM': 48, 'case reports': 48, 'chromosomal abnormality': 43, 'hepatitis virus infection': 34, 'animal study - carcinogenesis': 47, 'telomerase activity': 49, 'etc': 32, 'hepatectomy': 35, 'membrane protein': 43, 'bile duct': 43, 'role of mitochondria': 37, 'erythoropoietin': 48, 'lipoprotein metabolism': 45, 'gene & protein expression': 47, 'immunotherapy': 46, 'genotypes associated with HCC': 30, 'researches using hepatoma cell line': 32, 'viral vectors': 32, 'hepatocarcinogen': 32, 'chemotherapy': 35, 'risk factors': 44, 'biomarkers for HCC': 44, 'systematic review and clinical research': 43, 'scintigraphic imaging': 47, 'liver transplantation': 27, 'regulation of gene transcription': 24, 'disease overview': 31, 'animal study - treatment': 30})"
      ]
     },
     "execution_count": 17,
     "metadata": {},
     "output_type": "execute_result"
    }
   ],
   "source": [
    "G.degree()"
   ]
  },
  {
   "cell_type": "code",
   "execution_count": 18,
   "id": "05ac7fad",
   "metadata": {},
   "outputs": [],
   "source": [
    "node_dict = {}\n",
    "for i, row in edges_df.iterrows():\n",
    "    s = row['source']\n",
    "    t = row['dest']\n",
    "    node_dict[s] = node_dict.get(s, {})\n",
    "    node_dict[s][t] = node_dict[s].get(t, 0)+1    "
   ]
  },
  {
   "cell_type": "code",
   "execution_count": 19,
   "id": "3360fc27",
   "metadata": {},
   "outputs": [],
   "source": [
    "topic_df = pd.read_excel('topic_year_matrix.xlsx', usecols=['topic_name'])"
   ]
  },
  {
   "cell_type": "code",
   "execution_count": 20,
   "id": "eeb50ad4",
   "metadata": {},
   "outputs": [],
   "source": [
    "dsm_df = topic_df\n",
    "for s_name in topic_df['topic_name']:\n",
    "    weight_list = []\n",
    "    for t_name in topic_df['topic_name']:\n",
    "        weight = node_dict[s_name].get(t_name, 0)\n",
    "        weight_list.append(weight)\n",
    "    dsm_df[s_name] = weight_list"
   ]
  },
  {
   "cell_type": "code",
   "execution_count": 21,
   "id": "0ca959d6",
   "metadata": {},
   "outputs": [],
   "source": [
    "dsm_df.to_excel('topic_matrix.xlsx')"
   ]
  },
  {
   "cell_type": "code",
   "execution_count": 22,
   "id": "9f9c1e92",
   "metadata": {},
   "outputs": [],
   "source": [
    "import time"
   ]
  },
  {
   "cell_type": "code",
   "execution_count": 23,
   "id": "7f5d5107",
   "metadata": {},
   "outputs": [],
   "source": [
    "####degree centrality\n",
    "degree_centrality = nx.degree_centrality(G)"
   ]
  },
  {
   "cell_type": "code",
   "execution_count": 24,
   "id": "f965e6a2",
   "metadata": {},
   "outputs": [],
   "source": [
    "####betweenness centrality\n",
    "betweenness_centrality = nx.betweenness_centrality(G)"
   ]
  },
  {
   "cell_type": "code",
   "execution_count": 25,
   "id": "3adfc725",
   "metadata": {},
   "outputs": [
    {
     "name": "stdout",
     "output_type": "stream",
     "text": [
      "proliferation of HCC cells \t 0.8163265306122448 \t 0.0023779585086553677\n",
      "survival analysis, prognosis \t 0.8979591836734693 \t 0.003087189447773782\n",
      "apoptosis \t 0.9795918367346939 \t 0.004670564228878202\n",
      "imaging with contrast dye \t 0.9999999999999999 \t 0.005626950911955447\n",
      "gene & protein expression \t 0.9591836734693877 \t 0.004829711076738001\n",
      "TACE \t 0.9999999999999999 \t 0.005626950911955447\n",
      "disease overview \t 0.6326530612244897 \t 0.0003191145351940899\n",
      "gene muations in HCC \t 0.9591836734693877 \t 0.003947954422787178\n",
      "risk factors \t 0.8979591836734693 \t 0.002950406189012981\n",
      "hepatitis virus infection \t 0.6938775510204082 \t 0.0005651107166409035\n",
      "pathology \t 0.9999999999999999 \t 0.005626950911955447\n",
      "hepatectomy \t 0.7142857142857142 \t 0.0005004303067632041\n",
      "chemotherapy \t 0.7142857142857142 \t 0.001242691378357973\n",
      "management of HCC \t 0.9795918367346939 \t 0.005463460328749214\n",
      "immunotherapy \t 0.9387755102040816 \t 0.003638442508549884\n",
      "vascular procedures \t 0.9387755102040816 \t 0.003606765819608715\n",
      "membrane protein \t 0.8775510204081632 \t 0.0036944885509942495\n",
      "liver transplantation \t 0.5510204081632653 \t 5.984126750272119e-05\n",
      "protein kinase \t 0.9999999999999999 \t 0.005626950911955447\n",
      "RFA \t 0.8979591836734693 \t 0.0026524196147394733\n",
      "regulation of gene transcription \t 0.4897959183673469 \t 0.0001024838026499156\n",
      "hepatitis virus - carcinogenesis \t 0.9387755102040816 \t 0.003842451347155982\n",
      "biomarkers for HCC \t 0.8979591836734693 \t 0.002752154130869296\n",
      "genotypes associated with HCC \t 0.6122448979591836 \t 0.0003000724156333738\n",
      "serum AFP \t 0.5918367346938775 \t 0.0002154309437690892\n",
      "lipoprotein metabolism \t 0.9183673469387754 \t 0.003552148214402968\n",
      "systematic review and clinical research \t 0.8775510204081632 \t 0.0029820655540404068\n",
      "researches using hepatoma cell line \t 0.6530612244897959 \t 0.00029040932919994507\n",
      "viral vectors \t 0.6530612244897959 \t 0.0002535742760535248\n",
      "case reports \t 0.9795918367346939 \t 0.0050110446604932505\n",
      "cytochrome P450 \t 0.9999999999999999 \t 0.005626950911955447\n",
      "liver fibrosis - alcohol, fatty liver \t 0.9999999999999999 \t 0.005626950911955447\n",
      "role of mitochondria \t 0.7551020408163265 \t 0.0006020006992557661\n",
      "animal study - treatment \t 0.6122448979591836 \t 0.00024833408742891357\n",
      "animal study - carcinogenesis \t 0.9591836734693877 \t 0.004334420023043519\n",
      "hepatotoxicity \t 0.8979591836734693 \t 0.003991717931773005\n",
      "varix \t 0.9183673469387754 \t 0.004266182984987066\n",
      "scintigraphic imaging \t 0.9591836734693877 \t 0.00540082713129959\n",
      "chromosomal abnormality \t 0.8775510204081632 \t 0.003170770116726395\n",
      "angiogenesis in hepatocellular carcinoma \t 0.8571428571428571 \t 0.002642882460919577\n",
      "bile duct \t 0.8775510204081632 \t 0.002276300760603294\n",
      "hormone receptors \t 0.9795918367346939 \t 0.005196741424017097\n",
      "telomerase activity \t 0.9999999999999999 \t 0.005626950911955447\n",
      "epithelial-to-mesenchymal transition \t 0.9387755102040816 \t 0.004770667198549972\n",
      "DM \t 0.9795918367346939 \t 0.005196741424017097\n",
      "iron metabolism \t 0.6530612244897959 \t 0.0002370232618730352\n",
      "erythoropoietin \t 0.9795918367346939 \t 0.0050851502617364295\n",
      "hepatocarcinogen \t 0.6530612244897959 \t 0.0004601676687147956\n",
      "ascites \t 0.9591836734693877 \t 0.004480915135321047\n",
      "etc \t 0.6530612244897959 \t 0.00010402223273631801\n"
     ]
    }
   ],
   "source": [
    "for s_name in topic_df['topic_name']:\n",
    "    print(s_name,'\\t',degree_centrality[s_name],'\\t',betweenness_centrality[s_name])"
   ]
  },
  {
   "cell_type": "code",
   "execution_count": 26,
   "id": "ef973db7",
   "metadata": {},
   "outputs": [],
   "source": [
    "network_df = topic_df\n",
    "degree_list = []\n",
    "betweenness_list = []\n",
    "for t_name in topic_df['topic_name']:\n",
    "    degree_list.append(degree_centrality[t_name])\n",
    "    betweenness_list.append(betweenness_centrality[t_name])\n"
   ]
  },
  {
   "cell_type": "code",
   "execution_count": 27,
   "id": "41988261",
   "metadata": {},
   "outputs": [],
   "source": [
    "network_df['degree_centrality'] = degree_list\n",
    "network_df['betweenness_centrality'] = betweenness_list"
   ]
  },
  {
   "cell_type": "code",
   "execution_count": 28,
   "id": "fbb4f914",
   "metadata": {},
   "outputs": [],
   "source": [
    "network_df.to_excel('network_measures.xlsx')"
   ]
  }
 ],
 "metadata": {
  "kernelspec": {
   "display_name": "Python 3",
   "language": "python",
   "name": "python3"
  },
  "language_info": {
   "codemirror_mode": {
    "name": "ipython",
    "version": 3
   },
   "file_extension": ".py",
   "mimetype": "text/x-python",
   "name": "python",
   "nbconvert_exporter": "python",
   "pygments_lexer": "ipython3",
   "version": "3.8.10"
  }
 },
 "nbformat": 4,
 "nbformat_minor": 5
}
