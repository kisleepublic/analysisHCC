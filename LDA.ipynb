{
 "cells": [
  {
   "cell_type": "code",
   "execution_count": 1,
   "id": "878f2607",
   "metadata": {},
   "outputs": [],
   "source": [
    "import os\n",
    "import glob\n",
    "import pandas as pd\n",
    "from tqdm.notebook import tqdm"
   ]
  },
  {
   "cell_type": "code",
   "execution_count": 2,
   "id": "7703d0ac",
   "metadata": {},
   "outputs": [
    {
     "name": "stderr",
     "output_type": "stream",
     "text": [
      "C:\\ProgramData\\Anaconda3\\envs\\py38tensor2\\lib\\site-packages\\gensim\\similarities\\__init__.py:15: UserWarning: The gensim.similarities.levenshtein submodule is disabled, because the optional Levenshtein package <https://pypi.org/project/python-Levenshtein/> is unavailable. Install Levenhstein (e.g. `pip install python-Levenshtein`) to suppress this warning.\n",
      "  warnings.warn(msg)\n"
     ]
    }
   ],
   "source": [
    "from nltk.corpus import stopwords\n",
    "from nltk.stem.porter import PorterStemmer\n",
    "from nltk.tokenize import RegexpTokenizer\n",
    "from gensim import corpora\n",
    "from gensim import models\n",
    "from gensim.models.ldamulticore import LdaMulticore\n",
    "from gensim.models.coherencemodel import CoherenceModel\n",
    "import pickle"
   ]
  },
  {
   "cell_type": "code",
   "execution_count": 3,
   "id": "87ef0f02",
   "metadata": {
    "scrolled": true
   },
   "outputs": [],
   "source": [
    "file = os.getcwd() + r'\\article_info.xlsx'"
   ]
  },
  {
   "cell_type": "code",
   "execution_count": 4,
   "id": "35700ab6",
   "metadata": {
    "scrolled": true
   },
   "outputs": [],
   "source": [
    "df = pd.read_excel(file, usecols=['year','title','abstract','country'])"
   ]
  },
  {
   "cell_type": "code",
   "execution_count": 5,
   "id": "fa611581",
   "metadata": {},
   "outputs": [
    {
     "data": {
      "text/html": [
       "<div>\n",
       "<style scoped>\n",
       "    .dataframe tbody tr th:only-of-type {\n",
       "        vertical-align: middle;\n",
       "    }\n",
       "\n",
       "    .dataframe tbody tr th {\n",
       "        vertical-align: top;\n",
       "    }\n",
       "\n",
       "    .dataframe thead th {\n",
       "        text-align: right;\n",
       "    }\n",
       "</style>\n",
       "<table border=\"1\" class=\"dataframe\">\n",
       "  <thead>\n",
       "    <tr style=\"text-align: right;\">\n",
       "      <th></th>\n",
       "      <th>year</th>\n",
       "      <th>title</th>\n",
       "      <th>abstract</th>\n",
       "      <th>country</th>\n",
       "    </tr>\n",
       "  </thead>\n",
       "  <tbody>\n",
       "    <tr>\n",
       "      <th>0</th>\n",
       "      <td>1997</td>\n",
       "      <td>HBV genome integration and genetic instability...</td>\n",
       "      <td>The aim of this study is to clarify the existe...</td>\n",
       "      <td>Ireland</td>\n",
       "    </tr>\n",
       "    <tr>\n",
       "      <th>1</th>\n",
       "      <td>1997</td>\n",
       "      <td>Clinical manifestations of hepatitis C.</td>\n",
       "      <td>Hepatitis C is a common cause of viral hepatit...</td>\n",
       "      <td>United States</td>\n",
       "    </tr>\n",
       "    <tr>\n",
       "      <th>2</th>\n",
       "      <td>1998</td>\n",
       "      <td>Hepatobiliary malignancy.</td>\n",
       "      <td>Chronic cholestatic liver disease may be compl...</td>\n",
       "      <td>United States</td>\n",
       "    </tr>\n",
       "    <tr>\n",
       "      <th>3</th>\n",
       "      <td>1999</td>\n",
       "      <td>Experimental hepatic tumorigenicity by environ...</td>\n",
       "      <td>There is an evident need of low-cost vertebrat...</td>\n",
       "      <td>United States</td>\n",
       "    </tr>\n",
       "    <tr>\n",
       "      <th>4</th>\n",
       "      <td>1999</td>\n",
       "      <td>Development of test systems for the detection ...</td>\n",
       "      <td>Over the past decades, strong efforts have bee...</td>\n",
       "      <td>United States</td>\n",
       "    </tr>\n",
       "  </tbody>\n",
       "</table>\n",
       "</div>"
      ],
      "text/plain": [
       "   year                                              title  \\\n",
       "0  1997  HBV genome integration and genetic instability...   \n",
       "1  1997            Clinical manifestations of hepatitis C.   \n",
       "2  1998                          Hepatobiliary malignancy.   \n",
       "3  1999  Experimental hepatic tumorigenicity by environ...   \n",
       "4  1999  Development of test systems for the detection ...   \n",
       "\n",
       "                                            abstract        country  \n",
       "0  The aim of this study is to clarify the existe...        Ireland  \n",
       "1  Hepatitis C is a common cause of viral hepatit...  United States  \n",
       "2  Chronic cholestatic liver disease may be compl...  United States  \n",
       "3  There is an evident need of low-cost vertebrat...  United States  \n",
       "4  Over the past decades, strong efforts have bee...  United States  "
      ]
     },
     "execution_count": 5,
     "metadata": {},
     "output_type": "execute_result"
    }
   ],
   "source": [
    "df.head()"
   ]
  },
  {
   "cell_type": "code",
   "execution_count": 6,
   "id": "40c2a516",
   "metadata": {},
   "outputs": [],
   "source": [
    "df = df[df['abstract'].isna()!=True]\n",
    "df = df[df.year<=2020]\n",
    "df = df.drop_duplicates(['abstract'])\n",
    "df = df.reset_index(drop=True)"
   ]
  },
  {
   "cell_type": "code",
   "execution_count": 7,
   "id": "fb6b4b80",
   "metadata": {},
   "outputs": [],
   "source": [
    "stemmer = PorterStemmer()\n",
    "stop_words = set(stopwords.words('english'))"
   ]
  },
  {
   "cell_type": "code",
   "execution_count": 8,
   "id": "a658c4ed",
   "metadata": {},
   "outputs": [],
   "source": [
    "texts=[]\n",
    "for abst in df[\"abstract\"]:\n",
    "    texts.append(abst.strip())"
   ]
  },
  {
   "cell_type": "code",
   "execution_count": 9,
   "id": "fd4f83a8",
   "metadata": {},
   "outputs": [],
   "source": [
    "tokenizer = RegexpTokenizer(r'[A-Za-z0-9-]+')"
   ]
  },
  {
   "cell_type": "code",
   "execution_count": 10,
   "id": "6a0f4d36",
   "metadata": {},
   "outputs": [
    {
     "data": {
      "application/vnd.jupyter.widget-view+json": {
       "model_id": "b80f2e4bef824aad9f7d9340e20a340d",
       "version_major": 2,
       "version_minor": 0
      },
      "text/plain": [
       "  0%|          | 0/61891 [00:00<?, ?it/s]"
      ]
     },
     "metadata": {},
     "output_type": "display_data"
    }
   ],
   "source": [
    "tokens=[]\n",
    "for text in tqdm(texts):\n",
    "    token = tokenizer.tokenize(text)\n",
    "    stem_token = [stemmer.stem(word) for word in token if len(word)>1]\n",
    "    without_stopwords_token = [word for word in stem_token if word not in stop_words and not(word.isdigit())]\n",
    "    tokens.append(without_stopwords_token)"
   ]
  },
  {
   "cell_type": "code",
   "execution_count": 11,
   "id": "f3bf6bf1",
   "metadata": {},
   "outputs": [],
   "source": [
    "dictionary = corpora.Dictionary(tokens)"
   ]
  },
  {
   "cell_type": "code",
   "execution_count": 12,
   "id": "ef49ecfa",
   "metadata": {},
   "outputs": [],
   "source": [
    "corpus = [dictionary.doc2bow(doc) for doc in tokens]"
   ]
  },
  {
   "cell_type": "code",
   "execution_count": 13,
   "id": "2b119d9e",
   "metadata": {},
   "outputs": [],
   "source": [
    "num_topics = 50\n",
    "chunksize = 2000\n",
    "n_passes = 30\n",
    "n_iteration = 1000"
   ]
  },
  {
   "cell_type": "code",
   "execution_count": 14,
   "id": "f28677e4",
   "metadata": {},
   "outputs": [],
   "source": [
    "import time"
   ]
  },
  {
   "cell_type": "code",
   "execution_count": 15,
   "id": "97d75c63",
   "metadata": {},
   "outputs": [
    {
     "name": "stdout",
     "output_type": "stream",
     "text": [
      "489.5866873264313\n"
     ]
    }
   ],
   "source": [
    "start = time.time()\n",
    "lda = LdaMulticore(corpus=corpus,iterations=n_iteration, id2word=dictionary, num_topics=num_topics, passes=n_passes,per_word_topics=True)\n",
    "print(time.time()-start)"
   ]
  },
  {
   "cell_type": "code",
   "execution_count": 16,
   "id": "e0ad78e9",
   "metadata": {},
   "outputs": [
    {
     "name": "stdout",
     "output_type": "stream",
     "text": [
      "Coherence -3.6311974066912978\n",
      "Perplexity -7.79262724796969\n"
     ]
    }
   ],
   "source": [
    "cm = CoherenceModel(model=lda, corpus=corpus, coherence='u_mass')\n",
    "coherence = cm.get_coherence()\n",
    "print('Coherence', coherence)\n",
    "print('Perplexity', lda.log_perplexity(corpus))"
   ]
  },
  {
   "cell_type": "code",
   "execution_count": null,
   "id": "10bb6838",
   "metadata": {},
   "outputs": [],
   "source": [
    "lda.save('lda.model')"
   ]
  },
  {
   "cell_type": "code",
   "execution_count": null,
   "id": "ca1b8258",
   "metadata": {},
   "outputs": [],
   "source": [
    "with open('corpus', 'wb') as f:\n",
    "    pickle.dump(corpus, f)"
   ]
  },
  {
   "cell_type": "code",
   "execution_count": null,
   "id": "1c4e10a8",
   "metadata": {},
   "outputs": [],
   "source": [
    "#load\n",
    "lda =  models.LdaModel.load('lda.model')\n",
    "with open('corpus', 'rb') as f:\n",
    "    corpus = pickle.load(f)"
   ]
  },
  {
   "cell_type": "code",
   "execution_count": 17,
   "id": "53230153",
   "metadata": {},
   "outputs": [
    {
     "data": {
      "text/plain": [
       "array([[0.00010706, 0.00010706, 0.00010706, ..., 0.00010706, 0.00010706,\n",
       "        0.00010706],\n",
       "       [0.00039334, 0.00039334, 0.00039334, ..., 0.02299794, 0.00039334,\n",
       "        0.00039334],\n",
       "       [0.00032275, 0.00032275, 0.00032275, ..., 0.00032275, 0.00032275,\n",
       "        0.0176259 ],\n",
       "       ...,\n",
       "       [0.0001334 , 0.0001334 , 0.0001334 , ..., 0.0001334 , 0.0001334 ,\n",
       "        0.0001334 ],\n",
       "       [0.00012669, 0.00012669, 0.00012669, ..., 0.00012669, 0.00012669,\n",
       "        0.00012669],\n",
       "       [0.00012998, 0.00012998, 0.00012998, ..., 0.00012998, 0.00012998,\n",
       "        0.00012998]], dtype=float32)"
      ]
     },
     "execution_count": 17,
     "metadata": {},
     "output_type": "execute_result"
    }
   ],
   "source": [
    "#doc_topic matrix\n",
    "gamma, _ = lda.inference(corpus)\n",
    "doc_topic_dists = gamma / gamma.sum(axis=1)[:, None]\n",
    "doc_topic_dists"
   ]
  },
  {
   "cell_type": "code",
   "execution_count": 18,
   "id": "30d34b23",
   "metadata": {},
   "outputs": [],
   "source": [
    "import numpy as np"
   ]
  },
  {
   "cell_type": "code",
   "execution_count": 19,
   "id": "dccbcbc1",
   "metadata": {},
   "outputs": [],
   "source": [
    "arr = np.array(doc_topic_dists[0])"
   ]
  },
  {
   "cell_type": "code",
   "execution_count": 20,
   "id": "be4e713d",
   "metadata": {},
   "outputs": [
    {
     "data": {
      "text/plain": [
       "array([43, 19], dtype=int64)"
      ]
     },
     "execution_count": 20,
     "metadata": {},
     "output_type": "execute_result"
    }
   ],
   "source": [
    "arr.argsort()[-2:][::-1]"
   ]
  },
  {
   "cell_type": "code",
   "execution_count": 21,
   "id": "95b827b7",
   "metadata": {},
   "outputs": [],
   "source": [
    "#topic_num, word list\n",
    "topic_info = []\n",
    "for num, topic in lda.print_topics(num_topics=50, num_words=30):\n",
    "    words = []\n",
    "    for word in topic.split('+'):\n",
    "        raw = word.strip()\n",
    "        word = raw.split('*')[1].replace('\"','')\n",
    "        words.append(word)\n",
    "    topic_words = ' '.join(words)\n",
    "    #print(topic_words)\n",
    "    topic_info.append((num, topic_words))"
   ]
  },
  {
   "cell_type": "code",
   "execution_count": 22,
   "id": "9d182a09",
   "metadata": {},
   "outputs": [],
   "source": [
    "topic_df = pd.DataFrame(topic_info, columns=['topic_num', 'terms'])"
   ]
  },
  {
   "cell_type": "code",
   "execution_count": 23,
   "id": "92df624e",
   "metadata": {},
   "outputs": [],
   "source": [
    "doc_topic_matrix = np.array(doc_topic_dists)"
   ]
  },
  {
   "cell_type": "code",
   "execution_count": 24,
   "id": "e81efba5",
   "metadata": {},
   "outputs": [],
   "source": [
    "main_topic=[]\n",
    "sub_topic=[]\n",
    "for topic_vec in doc_topic_matrix:\n",
    "    top2 = topic_vec.argsort()[-2:][::-1]\n",
    "    main_topic.append(top2[0])\n",
    "    sub_topic.append(top2[1])"
   ]
  },
  {
   "cell_type": "code",
   "execution_count": 26,
   "id": "374edeca",
   "metadata": {},
   "outputs": [],
   "source": [
    "#num of docs per topic\n",
    "num_of_docs_by_topic = []\n",
    "for i in range(50):\n",
    "    num_of_docs_by_topic.append(0)\n",
    "\n",
    "for t_num in main_topic:\n",
    "    num_of_docs_by_topic[t_num]+=1    "
   ]
  },
  {
   "cell_type": "code",
   "execution_count": 27,
   "id": "33a6fc8b",
   "metadata": {},
   "outputs": [],
   "source": [
    "topic_df['num_of_docs'] = num_of_docs_by_topic"
   ]
  },
  {
   "cell_type": "code",
   "execution_count": 28,
   "id": "84778d0f",
   "metadata": {},
   "outputs": [
    {
     "data": {
      "text/html": [
       "<div>\n",
       "<style scoped>\n",
       "    .dataframe tbody tr th:only-of-type {\n",
       "        vertical-align: middle;\n",
       "    }\n",
       "\n",
       "    .dataframe tbody tr th {\n",
       "        vertical-align: top;\n",
       "    }\n",
       "\n",
       "    .dataframe thead th {\n",
       "        text-align: right;\n",
       "    }\n",
       "</style>\n",
       "<table border=\"1\" class=\"dataframe\">\n",
       "  <thead>\n",
       "    <tr style=\"text-align: right;\">\n",
       "      <th></th>\n",
       "      <th>topic_num</th>\n",
       "      <th>terms</th>\n",
       "      <th>num_of_docs</th>\n",
       "    </tr>\n",
       "  </thead>\n",
       "  <tbody>\n",
       "    <tr>\n",
       "      <th>0</th>\n",
       "      <td>0</td>\n",
       "      <td>wa activ human cell ifn-alpha express copper c...</td>\n",
       "      <td>303</td>\n",
       "    </tr>\n",
       "    <tr>\n",
       "      <th>1</th>\n",
       "      <td>1</td>\n",
       "      <td>cell protein wa human bind thi hepatoma membra...</td>\n",
       "      <td>1039</td>\n",
       "    </tr>\n",
       "    <tr>\n",
       "      <th>2</th>\n",
       "      <td>2</td>\n",
       "      <td>gpc3 wa fa cell circ circrna hsa line show ck ...</td>\n",
       "      <td>64</td>\n",
       "    </tr>\n",
       "    <tr>\n",
       "      <th>3</th>\n",
       "      <td>3</td>\n",
       "      <td>bile hcc duct metastasi icc intrahepat bone in...</td>\n",
       "      <td>42</td>\n",
       "    </tr>\n",
       "    <tr>\n",
       "      <th>4</th>\n",
       "      <td>4</td>\n",
       "      <td>hcc treatment thi cancer therapi ha liver clin...</td>\n",
       "      <td>3701</td>\n",
       "    </tr>\n",
       "  </tbody>\n",
       "</table>\n",
       "</div>"
      ],
      "text/plain": [
       "   topic_num                                              terms  num_of_docs\n",
       "0          0  wa activ human cell ifn-alpha express copper c...          303\n",
       "1          1  cell protein wa human bind thi hepatoma membra...         1039\n",
       "2          2  gpc3 wa fa cell circ circrna hsa line show ck ...           64\n",
       "3          3  bile hcc duct metastasi icc intrahepat bone in...           42\n",
       "4          4  hcc treatment thi cancer therapi ha liver clin...         3701"
      ]
     },
     "execution_count": 28,
     "metadata": {},
     "output_type": "execute_result"
    }
   ],
   "source": [
    "topic_df.head()"
   ]
  },
  {
   "cell_type": "code",
   "execution_count": 29,
   "id": "47b8b3b1",
   "metadata": {},
   "outputs": [
    {
     "name": "stdout",
     "output_type": "stream",
     "text": [
      "6425\n",
      "1237.82\n",
      "8\n"
     ]
    }
   ],
   "source": [
    "#topic EDA summary\n",
    "print(topic_df['num_of_docs'].max())\n",
    "print(topic_df['num_of_docs'].mean())\n",
    "print(topic_df['num_of_docs'].min())"
   ]
  },
  {
   "cell_type": "code",
   "execution_count": 30,
   "id": "cff441e1",
   "metadata": {},
   "outputs": [],
   "source": [
    "topic_df.to_excel('topic_terms.xlsx', index=False)"
   ]
  },
  {
   "cell_type": "code",
   "execution_count": 31,
   "id": "eef91531",
   "metadata": {},
   "outputs": [],
   "source": [
    "out_df = pd.DataFrame(df, columns=['year','title','country'])"
   ]
  },
  {
   "cell_type": "code",
   "execution_count": 32,
   "id": "ef322da4",
   "metadata": {},
   "outputs": [],
   "source": [
    "out_df['topic']=main_topic\n",
    "out_df['sub_topic']=sub_topic\n",
    "out_df = out_df[['topic', 'title', 'year', 'country','sub_topic']]"
   ]
  },
  {
   "cell_type": "code",
   "execution_count": 33,
   "id": "587ac6dc",
   "metadata": {},
   "outputs": [],
   "source": [
    "out_df.to_excel('topic_doc.xlsx', index=False)"
   ]
  }
 ],
 "metadata": {
  "kernelspec": {
   "display_name": "Python 3",
   "language": "python",
   "name": "python3"
  },
  "language_info": {
   "codemirror_mode": {
    "name": "ipython",
    "version": 3
   },
   "file_extension": ".py",
   "mimetype": "text/x-python",
   "name": "python",
   "nbconvert_exporter": "python",
   "pygments_lexer": "ipython3",
   "version": "3.8.10"
  }
 },
 "nbformat": 4,
 "nbformat_minor": 5
}
