{
 "cells": [
  {
   "cell_type": "code",
   "execution_count": 1,
   "id": "9a865cdd",
   "metadata": {},
   "outputs": [],
   "source": [
    "import os\n",
    "import glob\n",
    "from tqdm.notebook import tqdm\n",
    "from bs4 import BeautifulSoup\n",
    "import pandas as pd"
   ]
  },
  {
   "cell_type": "code",
   "execution_count": 2,
   "id": "8c19f947",
   "metadata": {},
   "outputs": [],
   "source": [
    "FILE_PATH = os.getcwd() + r'\\xml'\n",
    "files = glob.glob(os.path.join(FILE_PATH, '*.xml'))"
   ]
  },
  {
   "cell_type": "code",
   "execution_count": 3,
   "id": "6d28116a",
   "metadata": {},
   "outputs": [],
   "source": [
    "def get_soup(filename):\n",
    "    with open(filename, 'r', encoding='utf-8') as f:\n",
    "        soup = BeautifulSoup(f, \"html.parser\")\n",
    "    return soup"
   ]
  },
  {
   "cell_type": "code",
   "execution_count": 4,
   "id": "c5db1da0",
   "metadata": {},
   "outputs": [],
   "source": [
    "mesh_terms_dic={}\n",
    "\n",
    "def collect_mesh_terms(soup):\n",
    "    for item in tqdm(soup.findAll('medlinecitation')):\n",
    "\n",
    "        try:\n",
    "            #year\n",
    "            pubdate = item.select_one('article > journal > journalissue > pubdate > year')\n",
    "            if pubdate==None:\n",
    "                pubdate = item.select_one('article > journal > journalissue > pubdate > medlinedate')\n",
    "                year  =int((pubdate.text)[0:4])\n",
    "            else:\n",
    "                year = int(pubdate.text)\n",
    "        except:\n",
    "            continue\n",
    "            \n",
    "        if not(1991<=year<=2020):\n",
    "            continue\n",
    "        year_index = year-1991\n",
    "\n",
    "        #mesh terms\n",
    "        meshterms = item.find_all('descriptorname')\n",
    "        meshterm_length.append(len(meshterms))\n",
    "        for term in meshterms:\n",
    "            mesh = term.text\n",
    "                                                        #from 1991 to 2020. 30 spaces for freq\n",
    "            year_freq_list = mesh_terms_dic.get(mesh, [0,0,0,0,0,0,0,0,0,0,0,0,0,0,0,0,0,0,0,0,0,0,0,0,0,0,0,0,0,0])\n",
    "            year_freq_list[year_index] +=  1\n",
    "            mesh_terms_dic[mesh] = year_freq_list\n"
   ]
  },
  {
   "cell_type": "code",
   "execution_count": 5,
   "id": "ee003faf",
   "metadata": {},
   "outputs": [],
   "source": [
    "#num of terms per doc\n",
    "meshterm_length=[]"
   ]
  },
  {
   "cell_type": "code",
   "execution_count": 6,
   "id": "16a58543",
   "metadata": {
    "scrolled": false
   },
   "outputs": [
    {
     "data": {
      "application/vnd.jupyter.widget-view+json": {
       "model_id": "f6b8faec30d044dd9a35339abec11c8c",
       "version_major": 2,
       "version_minor": 0
      },
      "text/plain": [
       "  0%|          | 0/8 [00:00<?, ?it/s]"
      ]
     },
     "metadata": {},
     "output_type": "display_data"
    },
    {
     "data": {
      "application/vnd.jupyter.widget-view+json": {
       "model_id": "2b1ac187d9a84d7fb28d4f69aa7ab40f",
       "version_major": 2,
       "version_minor": 0
      },
      "text/plain": [
       "  0%|          | 0/9713 [00:00<?, ?it/s]"
      ]
     },
     "metadata": {},
     "output_type": "display_data"
    },
    {
     "data": {
      "application/vnd.jupyter.widget-view+json": {
       "model_id": "3209bca38fb74b4f977ad1cfd0c1935d",
       "version_major": 2,
       "version_minor": 0
      },
      "text/plain": [
       "  0%|          | 0/9994 [00:00<?, ?it/s]"
      ]
     },
     "metadata": {},
     "output_type": "display_data"
    },
    {
     "data": {
      "application/vnd.jupyter.widget-view+json": {
       "model_id": "2e7c5123bca9493f8586866c6de83997",
       "version_major": 2,
       "version_minor": 0
      },
      "text/plain": [
       "  0%|          | 0/9255 [00:00<?, ?it/s]"
      ]
     },
     "metadata": {},
     "output_type": "display_data"
    },
    {
     "data": {
      "application/vnd.jupyter.widget-view+json": {
       "model_id": "e91fe971fee64623be095373921d110d",
       "version_major": 2,
       "version_minor": 0
      },
      "text/plain": [
       "  0%|          | 0/9738 [00:00<?, ?it/s]"
      ]
     },
     "metadata": {},
     "output_type": "display_data"
    },
    {
     "data": {
      "application/vnd.jupyter.widget-view+json": {
       "model_id": "27c9131da6734a15aee1f0a771e8258d",
       "version_major": 2,
       "version_minor": 0
      },
      "text/plain": [
       "  0%|          | 0/9078 [00:00<?, ?it/s]"
      ]
     },
     "metadata": {},
     "output_type": "display_data"
    },
    {
     "data": {
      "application/vnd.jupyter.widget-view+json": {
       "model_id": "c26f3ff805524b8fa8cfd2543b6d7083",
       "version_major": 2,
       "version_minor": 0
      },
      "text/plain": [
       "  0%|          | 0/8825 [00:00<?, ?it/s]"
      ]
     },
     "metadata": {},
     "output_type": "display_data"
    },
    {
     "data": {
      "application/vnd.jupyter.widget-view+json": {
       "model_id": "9dbaced1b69c45f49fd57e304c2bbfc6",
       "version_major": 2,
       "version_minor": 0
      },
      "text/plain": [
       "  0%|          | 0/9712 [00:00<?, ?it/s]"
      ]
     },
     "metadata": {},
     "output_type": "display_data"
    },
    {
     "data": {
      "application/vnd.jupyter.widget-view+json": {
       "model_id": "d2904f75cac7460898f9725c073b7465",
       "version_major": 2,
       "version_minor": 0
      },
      "text/plain": [
       "  0%|          | 0/9025 [00:00<?, ?it/s]"
      ]
     },
     "metadata": {},
     "output_type": "display_data"
    }
   ],
   "source": [
    "for file in tqdm(files):\n",
    "    soup = get_soup(file)\n",
    "    collect_mesh_terms(soup)"
   ]
  },
  {
   "cell_type": "code",
   "execution_count": 7,
   "id": "f5375ef1",
   "metadata": {},
   "outputs": [
    {
     "data": {
      "text/plain": [
       "12898"
      ]
     },
     "execution_count": 7,
     "metadata": {},
     "output_type": "execute_result"
    }
   ],
   "source": [
    "len(mesh_terms_dic)"
   ]
  },
  {
   "cell_type": "code",
   "execution_count": 8,
   "id": "0dd8e3a7",
   "metadata": {},
   "outputs": [],
   "source": [
    "freq_list = []\n",
    "for key, values in mesh_terms_dic.items():\n",
    "    freq_list.append((sum(values), key))"
   ]
  },
  {
   "cell_type": "code",
   "execution_count": 9,
   "id": "8926ef35",
   "metadata": {},
   "outputs": [],
   "source": [
    "freq_list.sort(reverse=True)"
   ]
  },
  {
   "cell_type": "code",
   "execution_count": 10,
   "id": "dba670ff",
   "metadata": {},
   "outputs": [],
   "source": [
    "out_form_list = []\n",
    "count=1\n",
    "for freq, term in freq_list[:1000]:\n",
    "    row = []\n",
    "    row.append(count)\n",
    "    row.append(term)\n",
    "    for year_count in mesh_terms_dic[term]:\n",
    "        row.append(year_count)\n",
    "    row.append(freq)\n",
    "    out_form_list.append(row)  \n",
    "    count+=1"
   ]
  },
  {
   "cell_type": "code",
   "execution_count": 11,
   "id": "072ad858",
   "metadata": {},
   "outputs": [],
   "source": [
    "columns_list = []\n",
    "columns_list.append('rank')\n",
    "columns_list.append('Mesh Term')\n",
    "for i in range(1991, 2021, 1):\n",
    "    columns_list.append(i)\n",
    "columns_list.append('total appearance')"
   ]
  },
  {
   "cell_type": "code",
   "execution_count": 12,
   "id": "134101b2",
   "metadata": {},
   "outputs": [
    {
     "data": {
      "text/plain": [
       "1000"
      ]
     },
     "execution_count": 12,
     "metadata": {},
     "output_type": "execute_result"
    }
   ],
   "source": [
    "len(out_form_list)"
   ]
  },
  {
   "cell_type": "code",
   "execution_count": 13,
   "id": "90c86ca5",
   "metadata": {},
   "outputs": [],
   "source": [
    "df = pd.DataFrame(out_form_list, columns=columns_list)"
   ]
  },
  {
   "cell_type": "code",
   "execution_count": 14,
   "id": "84a23b87",
   "metadata": {
    "scrolled": true
   },
   "outputs": [
    {
     "data": {
      "text/html": [
       "<div>\n",
       "<style scoped>\n",
       "    .dataframe tbody tr th:only-of-type {\n",
       "        vertical-align: middle;\n",
       "    }\n",
       "\n",
       "    .dataframe tbody tr th {\n",
       "        vertical-align: top;\n",
       "    }\n",
       "\n",
       "    .dataframe thead th {\n",
       "        text-align: right;\n",
       "    }\n",
       "</style>\n",
       "<table border=\"1\" class=\"dataframe\">\n",
       "  <thead>\n",
       "    <tr style=\"text-align: right;\">\n",
       "      <th></th>\n",
       "      <th>rank</th>\n",
       "      <th>Mesh Term</th>\n",
       "      <th>1991</th>\n",
       "      <th>1992</th>\n",
       "      <th>1993</th>\n",
       "      <th>1994</th>\n",
       "      <th>1995</th>\n",
       "      <th>1996</th>\n",
       "      <th>1997</th>\n",
       "      <th>1998</th>\n",
       "      <th>...</th>\n",
       "      <th>2012</th>\n",
       "      <th>2013</th>\n",
       "      <th>2014</th>\n",
       "      <th>2015</th>\n",
       "      <th>2016</th>\n",
       "      <th>2017</th>\n",
       "      <th>2018</th>\n",
       "      <th>2019</th>\n",
       "      <th>2020</th>\n",
       "      <th>total appearance</th>\n",
       "    </tr>\n",
       "  </thead>\n",
       "  <tbody>\n",
       "    <tr>\n",
       "      <th>0</th>\n",
       "      <td>1</td>\n",
       "      <td>Carcinoma, Hepatocellular</td>\n",
       "      <td>775</td>\n",
       "      <td>793</td>\n",
       "      <td>890</td>\n",
       "      <td>920</td>\n",
       "      <td>929</td>\n",
       "      <td>988</td>\n",
       "      <td>975</td>\n",
       "      <td>1074</td>\n",
       "      <td>...</td>\n",
       "      <td>3081</td>\n",
       "      <td>3768</td>\n",
       "      <td>4384</td>\n",
       "      <td>4191</td>\n",
       "      <td>4712</td>\n",
       "      <td>4109</td>\n",
       "      <td>4828</td>\n",
       "      <td>4771</td>\n",
       "      <td>5733</td>\n",
       "      <td>71296</td>\n",
       "    </tr>\n",
       "    <tr>\n",
       "      <th>1</th>\n",
       "      <td>2</td>\n",
       "      <td>Humans</td>\n",
       "      <td>727</td>\n",
       "      <td>751</td>\n",
       "      <td>826</td>\n",
       "      <td>844</td>\n",
       "      <td>866</td>\n",
       "      <td>935</td>\n",
       "      <td>895</td>\n",
       "      <td>988</td>\n",
       "      <td>...</td>\n",
       "      <td>2930</td>\n",
       "      <td>3611</td>\n",
       "      <td>4212</td>\n",
       "      <td>4028</td>\n",
       "      <td>4517</td>\n",
       "      <td>3973</td>\n",
       "      <td>4656</td>\n",
       "      <td>4614</td>\n",
       "      <td>5522</td>\n",
       "      <td>67671</td>\n",
       "    </tr>\n",
       "    <tr>\n",
       "      <th>2</th>\n",
       "      <td>3</td>\n",
       "      <td>Liver Neoplasms</td>\n",
       "      <td>729</td>\n",
       "      <td>753</td>\n",
       "      <td>829</td>\n",
       "      <td>844</td>\n",
       "      <td>829</td>\n",
       "      <td>869</td>\n",
       "      <td>831</td>\n",
       "      <td>894</td>\n",
       "      <td>...</td>\n",
       "      <td>2925</td>\n",
       "      <td>3608</td>\n",
       "      <td>4245</td>\n",
       "      <td>4059</td>\n",
       "      <td>4556</td>\n",
       "      <td>3970</td>\n",
       "      <td>4703</td>\n",
       "      <td>4649</td>\n",
       "      <td>5633</td>\n",
       "      <td>66587</td>\n",
       "    </tr>\n",
       "    <tr>\n",
       "      <th>3</th>\n",
       "      <td>4</td>\n",
       "      <td>Male</td>\n",
       "      <td>336</td>\n",
       "      <td>378</td>\n",
       "      <td>435</td>\n",
       "      <td>491</td>\n",
       "      <td>418</td>\n",
       "      <td>475</td>\n",
       "      <td>502</td>\n",
       "      <td>538</td>\n",
       "      <td>...</td>\n",
       "      <td>1794</td>\n",
       "      <td>2134</td>\n",
       "      <td>2497</td>\n",
       "      <td>2414</td>\n",
       "      <td>2633</td>\n",
       "      <td>2198</td>\n",
       "      <td>2636</td>\n",
       "      <td>2617</td>\n",
       "      <td>2713</td>\n",
       "      <td>37544</td>\n",
       "    </tr>\n",
       "    <tr>\n",
       "      <th>4</th>\n",
       "      <td>5</td>\n",
       "      <td>Female</td>\n",
       "      <td>272</td>\n",
       "      <td>324</td>\n",
       "      <td>368</td>\n",
       "      <td>408</td>\n",
       "      <td>384</td>\n",
       "      <td>403</td>\n",
       "      <td>430</td>\n",
       "      <td>431</td>\n",
       "      <td>...</td>\n",
       "      <td>1561</td>\n",
       "      <td>1882</td>\n",
       "      <td>2166</td>\n",
       "      <td>2194</td>\n",
       "      <td>2348</td>\n",
       "      <td>1944</td>\n",
       "      <td>2350</td>\n",
       "      <td>2335</td>\n",
       "      <td>2406</td>\n",
       "      <td>32784</td>\n",
       "    </tr>\n",
       "  </tbody>\n",
       "</table>\n",
       "<p>5 rows × 33 columns</p>\n",
       "</div>"
      ],
      "text/plain": [
       "   rank                  Mesh Term  1991  1992  1993  1994  1995  1996  1997  \\\n",
       "0     1  Carcinoma, Hepatocellular   775   793   890   920   929   988   975   \n",
       "1     2                     Humans   727   751   826   844   866   935   895   \n",
       "2     3            Liver Neoplasms   729   753   829   844   829   869   831   \n",
       "3     4                       Male   336   378   435   491   418   475   502   \n",
       "4     5                     Female   272   324   368   408   384   403   430   \n",
       "\n",
       "   1998  ...  2012  2013  2014  2015  2016  2017  2018  2019  2020  \\\n",
       "0  1074  ...  3081  3768  4384  4191  4712  4109  4828  4771  5733   \n",
       "1   988  ...  2930  3611  4212  4028  4517  3973  4656  4614  5522   \n",
       "2   894  ...  2925  3608  4245  4059  4556  3970  4703  4649  5633   \n",
       "3   538  ...  1794  2134  2497  2414  2633  2198  2636  2617  2713   \n",
       "4   431  ...  1561  1882  2166  2194  2348  1944  2350  2335  2406   \n",
       "\n",
       "   total appearance  \n",
       "0             71296  \n",
       "1             67671  \n",
       "2             66587  \n",
       "3             37544  \n",
       "4             32784  \n",
       "\n",
       "[5 rows x 33 columns]"
      ]
     },
     "execution_count": 14,
     "metadata": {},
     "output_type": "execute_result"
    }
   ],
   "source": [
    "df.head()"
   ]
  },
  {
   "cell_type": "code",
   "execution_count": 15,
   "id": "692f8513",
   "metadata": {},
   "outputs": [],
   "source": [
    "df.to_excel('MeSH_terms_Top1000(0526).xlsx', index=False)"
   ]
  }
 ],
 "metadata": {
  "kernelspec": {
   "display_name": "Python 3",
   "language": "python",
   "name": "python3"
  },
  "language_info": {
   "codemirror_mode": {
    "name": "ipython",
    "version": 3
   },
   "file_extension": ".py",
   "mimetype": "text/x-python",
   "name": "python",
   "nbconvert_exporter": "python",
   "pygments_lexer": "ipython3",
   "version": "3.8.10"
  }
 },
 "nbformat": 4,
 "nbformat_minor": 5
}
